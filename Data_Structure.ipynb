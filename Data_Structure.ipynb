{
  "nbformat": 4,
  "nbformat_minor": 0,
  "metadata": {
    "colab": {
      "provenance": []
    },
    "kernelspec": {
      "name": "python3",
      "display_name": "Python 3"
    },
    "language_info": {
      "name": "python"
    }
  },
  "cells": [
    {
      "cell_type": "code",
      "execution_count": null,
      "metadata": {
        "id": "w8ZA9OIU57Zd"
      },
      "outputs": [],
      "source": [
        "                           Data Structure"
      ]
    },
    {
      "cell_type": "markdown",
      "source": [
        "1.What are data structures, and why are they important?                   ->Data structures are fundamental concepts in computer science that     define how data is organized, stored, and manipulated within a computer system. They enable efficient access and modification of data, which is crucial for building effective software applications."
      ],
      "metadata": {
        "id": "DXQsVCwz6XdG"
      }
    },
    {
      "cell_type": "markdown",
      "source": [
        "2.Explain the difference between mutable and immutable data types with examples?\n",
        "-> Mutable data types are those whose contents can be changed in place after creation—meaning you can modify the actual object itself. Immutable data types, on the other hand, cannot be altered once created; instead, any “change” results in a brand‑new object."
      ],
      "metadata": {
        "id": "xro6EJvM7cYv"
      }
    },
    {
      "cell_type": "markdown",
      "source": [
        "3.What are the main differences between lists and tuples in Python?\n",
        "-> | Feature           | List (`[ ]`)        | Tuple (`( )`)               |\n",
        "| ----------------- | -------------- -     | --------------------------- |\n",
        "| Mutability        | Mutable             | Immutable                   |\n",
        "| Definition Syntax | `[...]`             | `(...)` or `a, b, c`        |\n",
        "| Built-in Methods  | Many (append, pop…) | Few (count, index)          |\n",
        "| Memory Efficiency | Larger, slower      | Smaller, faster             |\n",
        "| Hashable          | ❌                   | ✅ if elements are hashable  |\n",
        "| Common Use Cases  | Dynamic data        | Fixed data, keys, constants |\n"
      ],
      "metadata": {
        "id": "gAH6EjQ373Zq"
      }
    },
    {
      "cell_type": "markdown",
      "source": [
        "4. Describe how dictionaries store data?\n",
        "->  1. Key → Hash → Bucket Index\n",
        "Each key is passed through a hash function, which produces a numeric hash.\n",
        "\n",
        "That hash is then mapped (via modulo or bitmask) to an array index, pointing to a \"bucket\" where the entry should live\n",
        "\n",
        "2. Buckets & Entries\n",
        "The hash table consists of slots (initially 8 in CPython).\n",
        "\n",
        "Each entry stores a triple: (hash, key, value)\n",
        "data-structures-in-practice\n",
        "\n",
        "Beginning Python 3.6, CPython uses a more memory-efficient “compact dict” format: a small hash table holds indices into a dense entry array that stores the actual (hash, key, value) tuples\n",
        "\n",
        "3. Collision Resolution (Open Addressing)\n",
        "Since two keys can hash to the same index, CPython uses open addressing with probing:\n",
        "\n",
        "If slot i is occupied, the algorithm checks other slots (in a pseudo-random probe sequence) until it finds the key or an empty spot.\n",
        "\n",
        "4. Dynamic Resizing & Performance\n",
        "Default size starts at 8 slots.\n",
        "\n",
        "It resizes (e.g., to 18, 39, 81…) when capacity limits are hit to keep operations fast"
      ],
      "metadata": {
        "id": "6Rnj4vwr_fk3"
      }
    },
    {
      "cell_type": "markdown",
      "source": [
        "5. Why might you use a set instead of a list in Python?\n",
        "-> * a set when you:\n",
        "\n",
        "Only care about whether an item exists (fast in checks),\n",
        "\n",
        "Want unique items without duplicates,\n",
        "\n",
        "Need set-operations like union or intersection.\n",
        "\n",
        "* a list when you:\n",
        "\n",
        "Need to preserve order,\n",
        "\n",
        "Allow duplicates,\n",
        "\n",
        "Need to index, slice, or rely on sequence operations."
      ],
      "metadata": {
        "id": "T6ypTbp1Afal"
      }
    },
    {
      "cell_type": "markdown",
      "source": [
        "6. What is a string in Python, and how is it different from a list?\n",
        "-> A string in Python is an immutable sequence of characters—textual data enclosed in single, double, or triple quotes. Here’s how it differs from a list:\n",
        "\n",
        " A string is a sequence of characters: \"hello\" is a string of length 5\n",
        "You can access characters by indexing or slicing, just like a list:\n",
        "Strings are immutable: once created, you cannot change individual characters. Operations like slicing or concatenation produce new strings instead.\n",
        "\n",
        "A list is a mutable sequence capable of storing items of any type, not just characters:\n",
        "Lists support modifications: you can append, remove, or change elements in place, which is impossible with strings.\n",
        "\n",
        "\n"
      ],
      "metadata": {
        "id": "3Wo478ydBBmd"
      }
    },
    {
      "cell_type": "markdown",
      "source": [
        "7.How do tuples ensure data integrity in Python?\n",
        "-> By using tuples for static, structured data, you protect your program from bugs and unintended mutations, gain performance advantages, and write code that more clearly communicates its purpose.\n",
        "\n",
        "Let me know if you’d like examples or help choosing between tuples, lists, or namedtuples/dataclasses!"
      ],
      "metadata": {
        "id": "vIQoCywMCRou"
      }
    },
    {
      "cell_type": "markdown",
      "source": [
        "8. What is a hash table, and how does it relate to dictionaries in Python?\n",
        "-> A hash table is a data structure that stores key–value pairs in such a way that lookup, insertion, and deletion of items all happen in near-constant time (O(1)), thanks to hashing.\n",
        "\n",
        "the built-in dict type is implemented as a hash table:\n",
        "\n",
        "It maintains two internal structures:\n",
        "\n",
        "An entry array (stores (hash, key, value) tuples).\n",
        "\n",
        "A compact indices array to look up entry slots quickly\n",
        "On each key lookup:\n",
        "\n",
        "Python computes hash(key),\n",
        "\n",
        "Maps it via modulo to an index,\n",
        "\n",
        "Uses open addressing to find the right slot,\n",
        "\n",
        "And retrieves the associated value\n",
        "\n"
      ],
      "metadata": {
        "id": "9YJ7y5_iCwH5"
      }
    },
    {
      "cell_type": "markdown",
      "source": [
        "9. Can lists contain different data types in Python?\n",
        "-> Yes — in Python, lists can contain different data types, and it's quite flexible and common. Here's how and why:-\n",
        "\n",
        " Python Lists Are Heterogeneous\n",
        "A list is actually a dynamic array of references (pointers) to objects. Each element in the list points to an object stored elsewhere in memory, regardless of its type\n",
        "Because each reference has the same size, a list can hold ints, strings, floats, booleans, other lists, dictionaries, etc., all together"
      ],
      "metadata": {
        "id": "ofPW6HrBEDhg"
      }
    },
    {
      "cell_type": "markdown",
      "source": [
        "10. Explain why strings are immutable in Python?\n",
        "-> Python strings are immutable — once created, they cannot be changed. Here’s why that matters:\n",
        "\n",
        "1. Consistent Hashing & Use as Keys\n",
        "Because strings don’t change, their hash value remains stable, letting Python use them reliably as dictionary keys or set members. If you were to change a string's content after hashing it, the dictionary could break.\n",
        " 2. Memory Efficiency & Interning\n",
        "Python takes advantage of their immutability to optimize memory. For example, it can intern strings (reuse one copy across the application), speeding up comparisons and saving space , It can also share substrings or retain compact memory layouts safely since no one will modify the original.\n",
        " 3. Predictability & Safety\n",
        "Programmers don’t have to worry about strings being unexpectedly modified elsewhere in the code. This reliability is especially useful when passing text across functions or modules.\n",
        " 4. Simplicity in Implementation\n",
        "Immutable strings simplify Python’s handling of text and prevent issues like buffer overruns (unlike insecure, mutable C-style strings). You only ever build new strings, which avoids many bugs related to in-place modification."
      ],
      "metadata": {
        "id": "DEf573D2EwlX"
      }
    },
    {
      "cell_type": "markdown",
      "source": [
        "11. What advantages do dictionaries offer over lists for certain tasks?\n",
        "-> Dictionaries offer several key advantages over lists for certain tasks in Python:\n",
        " 1. Blazingly Fast Lookups by Key\n",
        " 2. Intuitive Key–Value Mapping\n",
        " 3.  Uniqueness Enforced on Keys\n",
        " 4. Built-in Mapping Operations\n",
        " 5. Use Cases Where Dicts Shine\n",
        "\n"
      ],
      "metadata": {
        "id": "OEmOLmzgFf9L"
      }
    },
    {
      "cell_type": "markdown",
      "source": [
        "12. Describe a scenario where using a tuple would be preferable over a list?\n",
        "-> A tuple is often a better choice than a list when your data represents a fixed structure, needs to be immutable, or will be used as a hashable key. Here’s a detailed scenario:\n",
        "\n",
        "Handling Database Rows or Records\n",
        "Say you're working with rows fetched from a database, where each row contains fields like (id, name, email, signup_date) that shouldn't change once retrieved.\n",
        "\n",
        "Why Choose a Tuple?\n",
        "* Fixed Structure & Integrity\n",
        "Tuples are immutable—once created, the fields can’t be altered accidentally. This immutability helps maintain data integrity, ensuring consistency across your program\n",
        "\n",
        "* Memory-Efficient & Faster\n",
        "Tuples are more memory-efficient and slightly faster to create or access compared to lists, especially when dealing with large datasets\n",
        "\n",
        "* Hashable for Composite Keys\n",
        "You can use tuples as keys in dictionaries (unlike lists). This is perfect for composite identifiers like (user_id, date)\n",
        "\n",
        "* Semantic Clarity\n",
        "Tuples signal that the data is a fixed record or structured group, not a dynamic collection\n",
        "“If the ordering of the items means something especially if they are different types I’ll go with the tuple.”"
      ],
      "metadata": {
        "id": "frhEy-_pGnuw"
      }
    },
    {
      "cell_type": "markdown",
      "source": [
        "13. How do sets handle duplicate values in Python?\n",
        "-> Python sets automatically handle duplicates by removing them—they store only unique elements. Here's how it works:\n",
        "1. Duplicate Removal on Insert\n",
        "When you add elements to a set—using literal notation {...}, the set() constructor, or .add()—any duplicate values are ignored. Only one instance of each value remains. Example:\n",
        "\n",
        "#s={1,2,2,3,3,3}\n",
        "#s\n",
        "{1,2,3}"
      ],
      "metadata": {
        "id": "DTdod9PDH05Q"
      }
    },
    {
      "cell_type": "markdown",
      "source": [
        "14. How does the “in” keyword work differently for lists and dictionaries?\n",
        "-> Here’s how the in keyword works differently for lists and dictionaries in Python:\n",
        "with Lists:-\n",
        "* Checks for a value in the sequence\n",
        "* Time complexity: O(n) — in the worst case, Python compares x to every element until it finds a match or reaches the end\n",
        "* Good for small or ordered collections, but becomes slow on large lists.\n",
        "with Dictionaries:-\n",
        "* Checks for a key, not a value\n",
        "* Time complexity: O(1) on average — thanks to hash table implementation\n",
        "* Much faster and doesn’t require constructing any views like dict.keys().\n"
      ],
      "metadata": {
        "id": "ARLDLz19JAop"
      }
    },
    {
      "cell_type": "markdown",
      "source": [
        "15. Can you modify the elements of a tuple? Explain why or why not?\n",
        "-> No — you cannot modify elements of a tuple in Python, because tuples are immutable. Here's what that means:\n",
        "\n",
        "Tuples are immutable: once created, neither their size nor their contents can change. Any attempt to assign to an index raises a TypeError."
      ],
      "metadata": {
        "id": "dnSb_T4vKair"
      }
    },
    {
      "cell_type": "markdown",
      "source": [
        "16.What is a nested dictionary, and give an example of its use case?\n",
        "-> A nested dictionary in Python is simply a dictionary where one or more values are themselves dictionaries. This allows you to build hierarchical, tree-like data structures that reflect complex relationships.\n",
        "movies = {\n",
        "    \"Animal\": {\n",
        "        \"director\": \"sandeep reddy vanga\",\n",
        "        \"release\": 2023,\n",
        "        \"characters\": {\n",
        "            \"Ranvijay Singh\": {\"actor\": \"ranbir kapoor\", \"role\": \"Protagonist\"},\n",
        "            \"Abrar Haque\":       {\"actor\": \"sunny Deol\", \"role\": \"Antagonist\"}\n",
        "        }\n",
        "    },"
      ],
      "metadata": {
        "id": "iuh3yaPHK8X2"
      }
    },
    {
      "cell_type": "markdown",
      "source": [
        "17. Describe the time complexity of accessing elements in a dictionary?\n",
        "-> Accessing elements in a Python dictionary by key has average-case time complexity of O(1)—constant time—thanks to its hash table implementation .\n",
        "Worst-Case Complexity: O(n)\n",
        "While rare, the worst-case time can degrade to O(n) if many keys collide—i.e., produce the same hash value and accumulate in the same slots. However, Python handles this using open addressing and rehashing, keeping collisions extremely unlikely."
      ],
      "metadata": {
        "id": "7hlSY8UMOm16"
      }
    },
    {
      "cell_type": "markdown",
      "source": [
        "18. In what situations are lists preferred over dictionaries?\n",
        "-> Here are situations when using lists is preferred over dictionaries in Python:\n",
        "\n",
        "1. Order Matters & You Rely on Indexing.\n",
        "2. Duplicate Values Are Valid or Needed.\n",
        "3. Frequent Sequential Iteration & Slicing.\n",
        "4. Efficient Append/Pop Operations at Ends.\n",
        "5. Simpler & More Memory-Efficient for Small Dynamic Sequences."
      ],
      "metadata": {
        "id": "Co1qwOQrPdHo"
      }
    },
    {
      "cell_type": "markdown",
      "source": [
        "19. Why are dictionaries considered unordered, and how does that affect data retrieval?\n",
        "-> Until Python 3.7, dictionaries were considered unordered, meaning there was no guaranteed sequence of keys when iterating—items could appear in an unpredictable order due to hash table arrangement\n",
        "\n",
        " Effect on Data Retrieval\n",
        "Iterating items\n",
        "Pre-3.7: Order was arbitrary and unpredictable.\n",
        "\n",
        "3.7+: You’ll iterate in insertion order—making loops and serialization (e.g., JSON) predictable and clear.\n",
        "\n",
        "Index-like access?\n",
        "Dictionaries do not support numeric indexing (dict[0] is invalid).\n",
        "If numeric access is needed, convert to a list:\n",
        "Equality comparisons\n",
        "\n",
        "Two dicts with the same key–value pairs are equal regardless of insertion order (== checks content, not order)\n",
        "\n",
        "But OrderedDict does consider order in equality comparisons.\n",
        "Using order deliberately\n",
        "\n",
        "If your code depends on ordering features like move_to_end() or popping from the beginning, OrderedDict gives explicit capabilities beyond normal dict behavior"
      ],
      "metadata": {
        "id": "z521d4VoQQOG"
      }
    },
    {
      "cell_type": "markdown",
      "source": [
        "20.Explain the difference between a list and a dictionary in terms of data retrieval?\n",
        "-> When retrieving data, lists and dictionaries differ significantly in their approach and performance:\n",
        "\n",
        " Speed of Retrieval\n",
        "Lists:\n",
        "Use sequential search for membership (x in my_list) in O(n) time — meaning the time grows linearly with the list size\n",
        "\n",
        "However, if you know an index, like my_list[5], it's O(1) — direct access by position.\n",
        "\n",
        "Dictionaries:\n",
        "Use a hash table underneath, so retrieving a value by my_dict[key] or checking membership key in my_dict takes O(1) on average\n",
        "\n",
        "Worst-case can degrade to O(n) during rare hash collisions, but Python minimizes this risk"
      ],
      "metadata": {
        "id": "wUixkzhOREUt"
      }
    },
    {
      "cell_type": "markdown",
      "source": [
        "                              practical question"
      ],
      "metadata": {
        "id": "yU6wng4TRpgH"
      }
    },
    {
      "cell_type": "markdown",
      "source": [
        "1. Write a code to create a string with your name and print it."
      ],
      "metadata": {
        "id": "Ps97SebORvTb"
      }
    },
    {
      "cell_type": "code",
      "source": [
        "# Assign your name to a string variable\n",
        "name = \"subhajit\"\n",
        "\n",
        "# Print the string\n",
        "print(name)\n"
      ],
      "metadata": {
        "colab": {
          "base_uri": "https://localhost:8080/"
        },
        "id": "Ivie8B5CKZhZ",
        "outputId": "ffc73db3-d948-4144-eebd-f89161ce911c"
      },
      "execution_count": 1,
      "outputs": [
        {
          "output_type": "stream",
          "name": "stdout",
          "text": [
            "subhajit\n"
          ]
        }
      ]
    },
    {
      "cell_type": "markdown",
      "source": [
        "2. Write a code to find the length of the string \"Hello World\""
      ],
      "metadata": {
        "id": "clSeNS3qLohm"
      }
    },
    {
      "cell_type": "code",
      "source": [
        "s = \"Hello World\"\n",
        "print(len(s))\n"
      ],
      "metadata": {
        "colab": {
          "base_uri": "https://localhost:8080/"
        },
        "id": "NdaZkof0L5lt",
        "outputId": "23a521e1-47cb-4c31-bbc7-36798bfd2997"
      },
      "execution_count": 2,
      "outputs": [
        {
          "output_type": "stream",
          "name": "stdout",
          "text": [
            "11\n"
          ]
        }
      ]
    },
    {
      "cell_type": "markdown",
      "source": [
        "3. Write a code to slice the first 3 characters from the string \"Python Programming\""
      ],
      "metadata": {
        "id": "52WvR32gMLtG"
      }
    },
    {
      "cell_type": "code",
      "source": [
        "s = \"Python Programming\"\n",
        "result = s[:3]\n",
        "print(result)\n"
      ],
      "metadata": {
        "colab": {
          "base_uri": "https://localhost:8080/"
        },
        "id": "7OZA583GMXWz",
        "outputId": "cf515c8c-5c50-42ac-974b-c41243161ae6"
      },
      "execution_count": 3,
      "outputs": [
        {
          "output_type": "stream",
          "name": "stdout",
          "text": [
            "Pyt\n"
          ]
        }
      ]
    },
    {
      "cell_type": "markdown",
      "source": [
        "4.Write a code to convert the string \"hello\" to uppercase."
      ],
      "metadata": {
        "id": "cM4X1CWtMgSR"
      }
    },
    {
      "cell_type": "code",
      "source": [
        "text = \"hello\"\n",
        "uppercase_text = text.upper()\n",
        "print(uppercase_text)\n"
      ],
      "metadata": {
        "colab": {
          "base_uri": "https://localhost:8080/"
        },
        "id": "z-X38-NUMraf",
        "outputId": "5505f6cb-e2c5-4e26-f887-c9419ded878f"
      },
      "execution_count": 4,
      "outputs": [
        {
          "output_type": "stream",
          "name": "stdout",
          "text": [
            "HELLO\n"
          ]
        }
      ]
    },
    {
      "cell_type": "markdown",
      "source": [
        "5. Write a code to replace the word \"apple\" with \"orange\" in the string \"I like apple\""
      ],
      "metadata": {
        "id": "BWkG5kRtM4G3"
      }
    },
    {
      "cell_type": "code",
      "source": [
        "s = \"I like apple\"\n",
        "new_s = s.replace(\"apple\", \"orange\")\n",
        "print(new_s)\n"
      ],
      "metadata": {
        "colab": {
          "base_uri": "https://localhost:8080/"
        },
        "id": "Cys_3gg6M-_O",
        "outputId": "691d55b1-c82d-4700-8ceb-00cd2e3a072d"
      },
      "execution_count": 5,
      "outputs": [
        {
          "output_type": "stream",
          "name": "stdout",
          "text": [
            "I like orange\n"
          ]
        }
      ]
    },
    {
      "cell_type": "markdown",
      "source": [
        "6. Write a code to create a list with numbers 1 to 5 and print it."
      ],
      "metadata": {
        "id": "giA3gn_zNWWt"
      }
    },
    {
      "cell_type": "code",
      "source": [
        "# Create a list from 1 to 5 using range()\n",
        "numbers = list(range(1, 6))\n",
        "print(numbers)\n"
      ],
      "metadata": {
        "colab": {
          "base_uri": "https://localhost:8080/"
        },
        "id": "0EAqt8s1NcND",
        "outputId": "2ab9ca3d-7086-4f84-d307-fff41935558b"
      },
      "execution_count": 6,
      "outputs": [
        {
          "output_type": "stream",
          "name": "stdout",
          "text": [
            "[1, 2, 3, 4, 5]\n"
          ]
        }
      ]
    },
    {
      "cell_type": "markdown",
      "source": [
        "7.Write a code to append the number 10 to the list [1, 2, 3, 4]."
      ],
      "metadata": {
        "id": "LU2ghMUbNnX3"
      }
    },
    {
      "cell_type": "code",
      "source": [
        "numbers = [1, 2, 3, 4]\n",
        "numbers.append(10)\n",
        "print(numbers)\n"
      ],
      "metadata": {
        "colab": {
          "base_uri": "https://localhost:8080/"
        },
        "id": "_pkvZ1gMNt1M",
        "outputId": "396143ea-9fe3-4e29-c4d4-d22236aa764f"
      },
      "execution_count": 7,
      "outputs": [
        {
          "output_type": "stream",
          "name": "stdout",
          "text": [
            "[1, 2, 3, 4, 10]\n"
          ]
        }
      ]
    },
    {
      "cell_type": "markdown",
      "source": [
        "8. Write a code to remove the number 3 from the list [1, 2, 3, 4, 5]."
      ],
      "metadata": {
        "id": "grre2UG5N40D"
      }
    },
    {
      "cell_type": "code",
      "source": [
        "numbers=[1,2,3,4,5]\n",
        "numbers.remove(3)\n",
        "print(numbers)"
      ],
      "metadata": {
        "colab": {
          "base_uri": "https://localhost:8080/"
        },
        "id": "2CxmTiziOAki",
        "outputId": "b51c50e2-7e55-40b4-ef22-18464502cde7"
      },
      "execution_count": 8,
      "outputs": [
        {
          "output_type": "stream",
          "name": "stdout",
          "text": [
            "[1, 2, 4, 5]\n"
          ]
        }
      ]
    },
    {
      "cell_type": "markdown",
      "source": [
        "9.Write a code to access the second element in the list ['a', 'b', 'c', 'd']."
      ],
      "metadata": {
        "id": "Yh3LFXKoOgwO"
      }
    },
    {
      "cell_type": "code",
      "source": [
        "letters = ['a', 'b', 'c', 'd']\n",
        "second = letters[1]\n",
        "print(second)\n"
      ],
      "metadata": {
        "colab": {
          "base_uri": "https://localhost:8080/"
        },
        "id": "5FyGFIExOnnW",
        "outputId": "abca17cb-8a68-440f-8f09-be5ecdf107dd"
      },
      "execution_count": 9,
      "outputs": [
        {
          "output_type": "stream",
          "name": "stdout",
          "text": [
            "b\n"
          ]
        }
      ]
    },
    {
      "cell_type": "markdown",
      "source": [
        "10.Write a code to reverse the list [10, 20, 30, 40, 50]."
      ],
      "metadata": {
        "id": "OtjGzduOO4nN"
      }
    },
    {
      "cell_type": "code",
      "source": [
        "numbers = [10, 20, 30, 40, 50]\n",
        "numbers.reverse()\n",
        "print(numbers)\n"
      ],
      "metadata": {
        "colab": {
          "base_uri": "https://localhost:8080/"
        },
        "id": "DvPP8m50PAiw",
        "outputId": "70b456f5-bf6c-4885-e3be-91e97247f85f"
      },
      "execution_count": 10,
      "outputs": [
        {
          "output_type": "stream",
          "name": "stdout",
          "text": [
            "[50, 40, 30, 20, 10]\n"
          ]
        }
      ]
    },
    {
      "cell_type": "markdown",
      "source": [
        "11. Write a code to create a tuple with the elements 100, 200, 300 and print it."
      ],
      "metadata": {
        "id": "nbCpLJaBPNZk"
      }
    },
    {
      "cell_type": "code",
      "source": [
        "\n",
        "my_tuple = (100, 200, 300)\n",
        "\n",
        "# Print the tuple\n",
        "print(my_tuple)\n"
      ],
      "metadata": {
        "colab": {
          "base_uri": "https://localhost:8080/"
        },
        "id": "_VQrrZM-PTLR",
        "outputId": "74228578-7a7f-40e3-9cc6-f9adf5b820b1"
      },
      "execution_count": 11,
      "outputs": [
        {
          "output_type": "stream",
          "name": "stdout",
          "text": [
            "(100, 200, 300)\n"
          ]
        }
      ]
    },
    {
      "cell_type": "markdown",
      "source": [
        "12. Write a code to access the second-to-last element of the tuple ('red', 'green', 'blue', 'yellow')."
      ],
      "metadata": {
        "id": "e32A9_-LPeUv"
      }
    },
    {
      "cell_type": "code",
      "source": [
        "colors = ('red', 'green', 'blue', 'yellow')\n",
        "second_to_last = colors[-2]\n",
        "print(second_to_last)\n"
      ],
      "metadata": {
        "colab": {
          "base_uri": "https://localhost:8080/"
        },
        "id": "cTrNVWlMPj9w",
        "outputId": "6699aa49-dfd0-4b4e-d017-1a53f634ccf4"
      },
      "execution_count": 12,
      "outputs": [
        {
          "output_type": "stream",
          "name": "stdout",
          "text": [
            "blue\n"
          ]
        }
      ]
    },
    {
      "cell_type": "markdown",
      "source": [
        "13.. Write a code to find the minimum number in the tuple (10, 20, 5, 15)."
      ],
      "metadata": {
        "id": "zBsNKFhtP6p_"
      }
    },
    {
      "cell_type": "code",
      "source": [
        "numbers = (10, 20, 5, 15)\n",
        "print(min(numbers))\n"
      ],
      "metadata": {
        "colab": {
          "base_uri": "https://localhost:8080/"
        },
        "id": "nu3uETtUQApp",
        "outputId": "dec49172-59ee-4f83-8240-03f32b66a0d6"
      },
      "execution_count": 13,
      "outputs": [
        {
          "output_type": "stream",
          "name": "stdout",
          "text": [
            "5\n"
          ]
        }
      ]
    },
    {
      "cell_type": "markdown",
      "source": [
        "14. Write a code to find the index of the element \"cat\" in the tuple ('dog', 'cat', 'rabbit')."
      ],
      "metadata": {
        "id": "Tb8t3lhzQNv5"
      }
    },
    {
      "cell_type": "code",
      "source": [
        "animals = ('dog', 'cat', 'rabbit')\n",
        "index_of_cat = animals.index('cat')\n",
        "print(index_of_cat)\n"
      ],
      "metadata": {
        "colab": {
          "base_uri": "https://localhost:8080/"
        },
        "id": "8IEh6arCQZHL",
        "outputId": "008864e0-3952-46ca-e02c-defb540933a9"
      },
      "execution_count": 14,
      "outputs": [
        {
          "output_type": "stream",
          "name": "stdout",
          "text": [
            "1\n"
          ]
        }
      ]
    },
    {
      "cell_type": "markdown",
      "source": [
        "15. Write a code to create a tuple containing three different fruits and check if \"kiwi\" is in it."
      ],
      "metadata": {
        "id": "TwZZJm5QQkaR"
      }
    },
    {
      "cell_type": "code",
      "source": [
        "\n",
        "fruits = (\"apple\", \"banana\", \"orange\")\n",
        "if \"kiwi\" in fruits:\n",
        "    print(\"kiwi is in the tuple\")\n",
        "else:\n",
        "    print(\"kiwi is not in the tuple\")\n"
      ],
      "metadata": {
        "colab": {
          "base_uri": "https://localhost:8080/"
        },
        "id": "yG8kxNfBQp2R",
        "outputId": "6916a54f-c53b-4981-f7a1-d0be7da6838e"
      },
      "execution_count": 15,
      "outputs": [
        {
          "output_type": "stream",
          "name": "stdout",
          "text": [
            "kiwi is not in the tuple\n"
          ]
        }
      ]
    },
    {
      "cell_type": "markdown",
      "source": [
        "16."
      ],
      "metadata": {
        "id": "UzsY5W-qQ6WF"
      }
    },
    {
      "cell_type": "code",
      "source": [
        "letters = {'a', 'b', 'c'}\n",
        "print(letters)\n"
      ],
      "metadata": {
        "colab": {
          "base_uri": "https://localhost:8080/"
        },
        "id": "5qcIhKNpRF-h",
        "outputId": "76358ffb-794c-4815-ab30-5c0833d2dab8"
      },
      "execution_count": 16,
      "outputs": [
        {
          "output_type": "stream",
          "name": "stdout",
          "text": [
            "{'b', 'c', 'a'}\n"
          ]
        }
      ]
    },
    {
      "cell_type": "markdown",
      "source": [
        "17."
      ],
      "metadata": {
        "id": "HE7sFTWbRL8s"
      }
    },
    {
      "cell_type": "code",
      "source": [
        "numbers = {1, 2, 3, 4, 5}\n",
        "numbers.clear()\n",
        "print(numbers)\n"
      ],
      "metadata": {
        "colab": {
          "base_uri": "https://localhost:8080/"
        },
        "id": "dcmP2za2RNnK",
        "outputId": "ac65ef8f-ff15-43db-cb44-433ab0dd5ebe"
      },
      "execution_count": 17,
      "outputs": [
        {
          "output_type": "stream",
          "name": "stdout",
          "text": [
            "set()\n"
          ]
        }
      ]
    },
    {
      "cell_type": "markdown",
      "source": [
        "18."
      ],
      "metadata": {
        "id": "qnNW2RfeRjcv"
      }
    },
    {
      "cell_type": "code",
      "source": [
        "numbers = {1, 2, 3, 4}\n",
        "numbers.remove(4)\n",
        "print(numbers)\n"
      ],
      "metadata": {
        "colab": {
          "base_uri": "https://localhost:8080/"
        },
        "id": "mDMp9czzRkxY",
        "outputId": "7320a18c-15be-4b83-fa0f-af5761bcd52d"
      },
      "execution_count": 18,
      "outputs": [
        {
          "output_type": "stream",
          "name": "stdout",
          "text": [
            "{1, 2, 3}\n"
          ]
        }
      ]
    },
    {
      "cell_type": "markdown",
      "source": [
        "19."
      ],
      "metadata": {
        "id": "FK_6GQQBRxmX"
      }
    },
    {
      "cell_type": "code",
      "source": [
        "A = {1, 2, 3}\n",
        "B = {3, 4, 5}\n",
        "\n",
        "# Using the union() method\n",
        "union_set = A.union(B)\n",
        "print(union_set)\n",
        "# Or using the | operator\n",
        "union_set2 = A | B\n",
        "print(union_set2)\n"
      ],
      "metadata": {
        "colab": {
          "base_uri": "https://localhost:8080/"
        },
        "id": "2LSvhd_PRzIM",
        "outputId": "12894a24-8020-46d5-d9f2-67b5b432800f"
      },
      "execution_count": 19,
      "outputs": [
        {
          "output_type": "stream",
          "name": "stdout",
          "text": [
            "{1, 2, 3, 4, 5}\n",
            "{1, 2, 3, 4, 5}\n"
          ]
        }
      ]
    },
    {
      "cell_type": "markdown",
      "source": [
        "20."
      ],
      "metadata": {
        "id": "PpY1Y5H8SP-h"
      }
    },
    {
      "cell_type": "code",
      "source": [
        "A = {1, 2, 3}\n",
        "B = {2, 3, 4}\n",
        "\n",
        "# Using the intersection() method\n",
        "common = A.intersection(B)\n",
        "print(common)\n",
        "# Or using the & operator\n",
        "common2 = A & B\n",
        "print(common2)\n"
      ],
      "metadata": {
        "colab": {
          "base_uri": "https://localhost:8080/"
        },
        "id": "2_ED1rK3SdbI",
        "outputId": "3cec749f-3b92-453a-9cb8-451c0494c669"
      },
      "execution_count": 20,
      "outputs": [
        {
          "output_type": "stream",
          "name": "stdout",
          "text": [
            "{2, 3}\n",
            "{2, 3}\n"
          ]
        }
      ]
    },
    {
      "cell_type": "markdown",
      "source": [
        "21."
      ],
      "metadata": {
        "id": "t-71f1tNSoyr"
      }
    },
    {
      "cell_type": "code",
      "source": [
        "\n",
        "person = {\n",
        "    \"name\": \"ramaswamy\",\n",
        "    \"age\": 30,\n",
        "    \"city\": \"coimbatore\"\n",
        "}\n",
        "print(person)\n"
      ],
      "metadata": {
        "colab": {
          "base_uri": "https://localhost:8080/"
        },
        "id": "OBnObyhWSq3K",
        "outputId": "1fcdc52f-b2a8-4558-bce0-bb5a2e6a2d29"
      },
      "execution_count": 21,
      "outputs": [
        {
          "output_type": "stream",
          "name": "stdout",
          "text": [
            "{'name': 'ramaswamy', 'age': 30, 'city': 'coimbatore'}\n"
          ]
        }
      ]
    },
    {
      "cell_type": "markdown",
      "source": [
        "22."
      ],
      "metadata": {
        "id": "j4ZiCUEYTRTh"
      }
    },
    {
      "cell_type": "code",
      "source": [
        "person = {'name': 'markcus', 'age': 25}\n",
        "person['country'] = 'island'\n",
        "print(person)\n"
      ],
      "metadata": {
        "colab": {
          "base_uri": "https://localhost:8080/"
        },
        "id": "wZVG9qmWTTbf",
        "outputId": "9f5f9454-fc0d-4d81-d21d-460d3578fcb6"
      },
      "execution_count": 22,
      "outputs": [
        {
          "output_type": "stream",
          "name": "stdout",
          "text": [
            "{'name': 'markcus', 'age': 25, 'country': 'island'}\n"
          ]
        }
      ]
    },
    {
      "cell_type": "markdown",
      "source": [
        "23."
      ],
      "metadata": {
        "id": "zkj2YvzJTwOb"
      }
    },
    {
      "cell_type": "code",
      "source": [
        "person = {'name': 'omreshpuri', 'age': 78}\n",
        "print(person['name'])\n"
      ],
      "metadata": {
        "colab": {
          "base_uri": "https://localhost:8080/"
        },
        "id": "hki-h5whT8Le",
        "outputId": "0043eff4-6571-4c37-a53f-867ca4358106"
      },
      "execution_count": 23,
      "outputs": [
        {
          "output_type": "stream",
          "name": "stdout",
          "text": [
            "omreshpuri\n"
          ]
        }
      ]
    },
    {
      "cell_type": "markdown",
      "source": [
        "24."
      ],
      "metadata": {
        "id": "76WFXWqTUlzY"
      }
    },
    {
      "cell_type": "code",
      "source": [
        "person = {'name': 'imtiaz', 'age': 22, 'city': 'kunnud'}\n",
        "del person['age']\n",
        "print(person)\n"
      ],
      "metadata": {
        "colab": {
          "base_uri": "https://localhost:8080/"
        },
        "id": "jY7dNxjpUnYL",
        "outputId": "b3752e68-d982-4dc2-8df1-2f37fae0fb24"
      },
      "execution_count": 24,
      "outputs": [
        {
          "output_type": "stream",
          "name": "stdout",
          "text": [
            "{'name': 'imtiaz', 'city': 'kunnud'}\n"
          ]
        }
      ]
    },
    {
      "cell_type": "markdown",
      "source": [
        "25."
      ],
      "metadata": {
        "id": "5teJDPcNVV5x"
      }
    },
    {
      "cell_type": "code",
      "source": [
        "person = {'name': 'leela', 'city': 'west bengal'}\n",
        "\n",
        "if 'city' in person:\n",
        "    print(\"Key 'city' exists in the dictionary!\")\n",
        "else:\n",
        "    print(\"Key 'city' does not exist.\")\n"
      ],
      "metadata": {
        "colab": {
          "base_uri": "https://localhost:8080/"
        },
        "id": "Gbt177wOVWZQ",
        "outputId": "b82a57cd-fe36-413d-9d06-86c5f558da08"
      },
      "execution_count": 25,
      "outputs": [
        {
          "output_type": "stream",
          "name": "stdout",
          "text": [
            "Key 'city' exists in the dictionary!\n"
          ]
        }
      ]
    },
    {
      "cell_type": "markdown",
      "source": [
        "26."
      ],
      "metadata": {
        "id": "CSjCjtVMVm8N"
      }
    },
    {
      "cell_type": "code",
      "source": [
        "\n",
        "my_list = [10, 20, 30, 'hello']\n",
        "my_tuple = (1, 2, 3, 'world')\n",
        "my_dict = {'name': 'virat kohli', 'age': 35, 'city': 'London'}\n",
        "print(\"List:\", my_list)\n",
        "print(\"Tuple:\", my_tuple)\n",
        "print(\"Dictionary:\", my_dict)\n"
      ],
      "metadata": {
        "colab": {
          "base_uri": "https://localhost:8080/"
        },
        "id": "YEtn24oFVoTo",
        "outputId": "81cf9681-2629-4348-eb4d-1da62435e2b4"
      },
      "execution_count": 26,
      "outputs": [
        {
          "output_type": "stream",
          "name": "stdout",
          "text": [
            "List: [10, 20, 30, 'hello']\n",
            "Tuple: (1, 2, 3, 'world')\n",
            "Dictionary: {'name': 'virat kohli', 'age': 35, 'city': 'London'}\n"
          ]
        }
      ]
    },
    {
      "cell_type": "markdown",
      "source": [
        "27.Write a code to create a list of 5 random numbers between 1 and 100, sort it in ascending order, and print the result.(replaced)"
      ],
      "metadata": {
        "id": "YGLyiuu-WJkZ"
      }
    },
    {
      "cell_type": "code",
      "source": [
        "import random\n",
        "\n",
        "# Generate a list of 5 random numbers between 1 and 100\n",
        "numbers = [random.randint(1, 100) for _ in range(5)]\n",
        "\n",
        "# Print the original list\n",
        "print(\"Original list:\", numbers)\n",
        "\n",
        "# Sort in ascending order (in-place)\n",
        "numbers.sort()\n",
        "\n",
        "# Print the sorted list\n",
        "print(\"Sorted list:\", numbers)\n"
      ],
      "metadata": {
        "colab": {
          "base_uri": "https://localhost:8080/"
        },
        "id": "b8IwpdJNW6iu",
        "outputId": "a8848b1f-923d-4248-ec83-ca76ae184aaf"
      },
      "execution_count": 28,
      "outputs": [
        {
          "output_type": "stream",
          "name": "stdout",
          "text": [
            "Original list: [3, 17, 2, 55, 30]\n",
            "Sorted list: [2, 3, 17, 30, 55]\n"
          ]
        }
      ]
    },
    {
      "cell_type": "markdown",
      "source": [
        "28.Write a code to create a list with strings and print the element at the third index."
      ],
      "metadata": {
        "id": "Bx5FMG9ZXJ-U"
      }
    },
    {
      "cell_type": "code",
      "source": [
        "# Create a list of strings\n",
        "fruits = [\"apple\", \"banana\", \"cherry\", \"blueberry\", \"elderberry\"]\n",
        "\n",
        "# Access and print the element at the third index (4th element)\n",
        "print(fruits[3])\n"
      ],
      "metadata": {
        "colab": {
          "base_uri": "https://localhost:8080/"
        },
        "id": "nUeiJQHJXP4A",
        "outputId": "ebac9a9e-1450-42cc-8826-6125d07bfebb"
      },
      "execution_count": 29,
      "outputs": [
        {
          "output_type": "stream",
          "name": "stdout",
          "text": [
            "blueberry\n"
          ]
        }
      ]
    }
  ]
}